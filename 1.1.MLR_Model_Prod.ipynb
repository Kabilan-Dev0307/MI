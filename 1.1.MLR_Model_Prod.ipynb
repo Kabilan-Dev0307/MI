{
 "cells": [
  {
   "cell_type": "code",
   "execution_count": 3,
   "id": "b743cfae",
   "metadata": {},
   "outputs": [
    {
     "name": "stdout",
     "output_type": "stream",
     "text": [
      "Predicted Profit: 173945.96679696086\n"
     ]
    },
    {
     "name": "stderr",
     "output_type": "stream",
     "text": [
      "c:\\Users\\a-kjayar01\\AppData\\Local\\Programs\\Python\\Python310\\lib\\site-packages\\sklearn\\utils\\validation.py:2749: UserWarning: X does not have valid feature names, but LinearRegression was fitted with feature names\n",
      "  warnings.warn(\n"
     ]
    }
   ],
   "source": [
    "#import mlr_model.sav \n",
    "import pickle as pkl\n",
    "# Load the model\n",
    "with open('mlr_model.sav', 'rb') as file:\n",
    "    model = pkl.load(file)\n",
    "# Predicting the profit for a new startup\n",
    "new_startup = [[160000, 130000, 30000, 0, 1]] # R&D Spend, Administration, Marketing Spend, State_Florida, State_New York\n",
    "predicted_profit = model.predict(new_startup)\n",
    "print(f\"Predicted Profit: {predicted_profit[0]}\")"
   ]
  }
 ],
 "metadata": {
  "kernelspec": {
   "display_name": "Python 3",
   "language": "python",
   "name": "python3"
  },
  "language_info": {
   "codemirror_mode": {
    "name": "ipython",
    "version": 3
   },
   "file_extension": ".py",
   "mimetype": "text/x-python",
   "name": "python",
   "nbconvert_exporter": "python",
   "pygments_lexer": "ipython3",
   "version": "3.10.3"
  }
 },
 "nbformat": 4,
 "nbformat_minor": 5
}
