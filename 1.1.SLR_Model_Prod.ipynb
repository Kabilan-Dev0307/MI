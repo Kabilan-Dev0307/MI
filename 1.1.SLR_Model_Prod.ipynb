{
 "cells": [
  {
   "cell_type": "code",
   "execution_count": 1,
   "id": "81320ab4",
   "metadata": {},
   "outputs": [
    {
     "name": "stdout",
     "output_type": "stream",
     "text": [
      "Predicted Salary for  12  years of experience: 137987.4190206756\n"
     ]
    }
   ],
   "source": [
    "#import pickle library for load the salary_model.sav model\n",
    "import pickle as pkl\n",
    "load_model = pkl.load(open('salary_model.sav', 'rb')) #Load the model from the file\n",
    "#Use the loaded model to make predictions \n",
    "get_yrsOfExp = int(input(\"Enter years of experience to predict salary: \")) # Example input for prediction (5 years of experience)\n",
    "predicted_salary = load_model.predict([[get_yrsOfExp]]) #Predict the salary for the given years of experience\n",
    "print(\"Predicted Salary for \", get_yrsOfExp,\" years of experience:\", predicted_salary[0]) #Print the predicted salary"
   ]
  }
 ],
 "metadata": {
  "kernelspec": {
   "display_name": "Python 3",
   "language": "python",
   "name": "python3"
  },
  "language_info": {
   "codemirror_mode": {
    "name": "ipython",
    "version": 3
   },
   "file_extension": ".py",
   "mimetype": "text/x-python",
   "name": "python",
   "nbconvert_exporter": "python",
   "pygments_lexer": "ipython3",
   "version": "3.10.3"
  }
 },
 "nbformat": 4,
 "nbformat_minor": 5
}
